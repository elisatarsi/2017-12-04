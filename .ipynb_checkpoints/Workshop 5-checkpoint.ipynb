{
 "cells": [
  {
   "cell_type": "markdown",
   "metadata": {},
   "source": [
    "WORKSHOP 5\n",
    "====="
   ]
  },
  {
   "cell_type": "markdown",
   "metadata": {},
   "source": [
    "### Modello geometrico di S. Stefano Rotondo al Celio                        "
   ]
  },
  {
   "cell_type": "code",
   "execution_count": 1,
   "metadata": {},
   "outputs": [
    {
     "name": "stdout",
     "output_type": "stream",
     "text": [
      "Evaluating fenvs.py..\n",
      "...fenvs.py imported in 0.013407 seconds\n"
     ]
    }
   ],
   "source": [
    "from pyplasm import*\n",
    "from larlib import*"
   ]
  },
  {
   "cell_type": "markdown",
   "metadata": {},
   "source": [
    "%*************************************************************%\n",
    "%---Misure di riferimento--(cubito = 0.462 m)-----------------%\n",
    "%*************************************************************%\n",
    "\n",
    "%-- 1 cubito = 444 mm ----------------------------------------%\n",
    "DEF r0 = 24; %---cubiti; raggio interno del muro interno------%\n",
    "DEF r2 = 48; %---cubiti; raggio esterno del muro medio--------%\n",
    "DEF r3 = 72; %---cubiti; raggio esterno del muro esterno------%\n",
    "DEF r4 = 88; %---cubiti; raggio esterno scale esterne---------%\n",
    "\n",
    "DEF wsteps = 10;  %---cubiti; profondita' scale esterne-------%\n",
    "DEF nsteps = 10;  %---numero alzate/pedate scale esterne------%\n",
    "DEF wstep = wsteps/nsteps; %---cubiti; larghezza pedata-------%\n",
    "DEF hstep = 1/3; %---cubiti; altezza alzata-------------------%\n",
    "DEF hw4 = 29; %--cubiti; altezza all'imposta del muro esterno-%\n",
    "DEF hbasament = hstep*nsteps;"
   ]
  },
  {
   "cell_type": "code",
   "execution_count": 2,
   "metadata": {
    "collapsed": true
   },
   "outputs": [],
   "source": [
    "r0 = 24.0\n",
    "r2 = 48.0\n",
    "r3 = 72.0\n",
    "r4 = 88.0\n",
    "wsteps = 10.0\n",
    "nsteps = 10.0\n",
    "wstep = wsteps/nsteps\n",
    "hstep = 1.0/3.0\n",
    "hw4 = 29.0\n",
    "hbasament = hstep*nsteps"
   ]
  },
  {
   "cell_type": "markdown",
   "metadata": {},
   "source": [
    "### MAPPA CILINDRICA"
   ]
  },
  {
   "cell_type": "markdown",
   "metadata": {},
   "source": [
    "DEF cylMap = MAP:[S2 * sin ~ S1, S2 * cos ~ S1, S3];"
   ]
  },
  {
   "cell_type": "code",
   "execution_count": 3,
   "metadata": {
    "collapsed": true
   },
   "outputs": [],
   "source": [
    "cylMap = MAP([lambda p: (p[1]) * math.sin(p[0]), \n",
    "              lambda p: (p[1]) * math.cos(p[0]),\n",
    "              lambda p: (p[2])])"
   ]
  },
  {
   "cell_type": "markdown",
   "metadata": {},
   "source": [
    "### SCALA ESTERNA"
   ]
  },
  {
   "cell_type": "markdown",
   "metadata": {},
   "source": [
    "DEF vdom (h::IsRealPos) = ((EMBED:1 ~ Intervals:(PI*3/24)):3) * QUOTE:< h>;\n",
    "DEF hdom (w::IsRealPos) = (S:2:-1 ~ EMBED:1):(Intervals:(PI*3/24):3 * QUOTE:< w>);\n",
    "\n",
    "DEF steps (w,h::IsRealPos) (n::IsIntPos) = (STRUCT ~ CAT ~ #:n):\n",
    "  < vdom:h, T:3:h, hdom:w, T:2:(-:w) >;\n",
    "\n",
    "DEF hbasament = hstep*nsteps;\n",
    "DEF stair = (MKPOL ~ UKPOL):(steps:< wstep,hstep>:nsteps  \n",
    "              RIGHT (S:2:-1 ~ @2 ~ CUBOID):< PI/24,wsteps,hbasament>);\n",
    "DEF ramp  = cylMap:(T:2:r4:stair);\n",
    "DEF stairs = (STRUCT ~ ##:12):< ramp, R:< 1,2>:(PI/6)>;\n"
   ]
  },
  {
   "cell_type": "code",
   "execution_count": 4,
   "metadata": {},
   "outputs": [
    {
     "data": {
      "text/plain": [
       "<pyplasm.xgepy.Hpc; proxy of <Swig Object of type 'std::shared_ptr< Hpc > *' at 0x18164a27b0> >"
      ]
     },
     "execution_count": 4,
     "metadata": {},
     "output_type": "execute_result"
    }
   ],
   "source": [
    "def vdom(h):\n",
    "    return PROD([COMP([EMBED(1),INTERVALS(PI*3/24)])(3),QUOTE([h])])\n",
    "\n",
    "def hdom(w):\n",
    "    return COMP([S(2)(-1), EMBED(1)])(PROD([INTERVALS(PI*3/24)(3), QUOTE([w])]))\n",
    "\n",
    "def steps(w, h):\n",
    "    def steps0(n):\n",
    "        return COMP([STRUCT, CAT, N(n)])([vdom(h), T(3)(h), hdom(w), T(2)(-w)])\n",
    "    return steps0\n",
    "\n",
    "hbasament = hstep * nsteps\n",
    "\n",
    "stair = RIGHT([COMP([MKPOL, UKPOL])(steps(wstep, hstep)(nsteps)),COMP([S(2)(-1), SKEL_2, CUBOID])([PI/24, wsteps, hbasament])])\n",
    "\n",
    "ramp = cylMap(T(2)(r4)(stair))\n",
    "\n",
    "stairs = STRUCT(NN(12)([ramp, R([1, 2])(PI/6)]))\n",
    "VIEW(stairs)"
   ]
  },
  {
   "cell_type": "markdown",
   "metadata": {},
   "source": [
    "![\"Workshop5-1\"](Workshop5-1.png)"
   ]
  },
  {
   "cell_type": "markdown",
   "metadata": {},
   "source": [
    "### BASAMENTO"
   ]
  },
  {
   "cell_type": "markdown",
   "metadata": {},
   "source": [
    "DEF basisSector = (cylMap ~ EMBED:1):\n",
    "    (Intervals:(2*PI/12):4 * Intervals:(r4 - (wstep*(nsteps - 1))):1);\n",
    "DEF basis = (STRUCT ~ ##:12):< basisSector, R:< 1,2>:(2*PI/12)>;\n",
    "DEF basement = (R:< 1,2>:(PI/-48) ~ STRUCT):< stairs, T:3:(hstep*nsteps), basis >;\n"
   ]
  },
  {
   "cell_type": "code",
   "execution_count": 5,
   "metadata": {},
   "outputs": [
    {
     "data": {
      "text/plain": [
       "<pyplasm.xgepy.Hpc; proxy of <Swig Object of type 'std::shared_ptr< Hpc > *' at 0x18164c8150> >"
      ]
     },
     "execution_count": 5,
     "metadata": {},
     "output_type": "execute_result"
    }
   ],
   "source": [
    "basisSector = COMP([cylMap, EMBED(1)])(PROD([INTERVALS(2 * PI / 12)(4), INTERVALS(r4 - (wstep * (nsteps - 1)))(1)]))\n",
    "basis = COMP([STRUCT, NN(12)])([basisSector, R([1, 2])(2 * PI / 12)])\n",
    "basement = COMP([R([1, 2])(PI / -48), STRUCT])([stairs, T(3)(hstep * nsteps), basis])\n",
    "VIEW(basement)"
   ]
  },
  {
   "cell_type": "markdown",
   "metadata": {},
   "source": [
    "![\"Workshop5-2\"](Workshop5-2.png)"
   ]
  },
  {
   "cell_type": "markdown",
   "metadata": {},
   "source": [
    "### MURO ESTERNO"
   ]
  },
  {
   "cell_type": "markdown",
   "metadata": {},
   "source": [
    "DEF ExtWall2Da = MKPOL:<<< 0,0>,< 7,0>,< 7,5>,< 0,8>,< 7,3>,< 9,4>,\n",
    "< 10.5,1.5>,< 10.5,0>,< 11,1.5>,< 11,3>>,< 1..4,< 2,8,7,6,5>,< 6,7,9,10>>,\n",
    "<< 1>,< 2>,< 3>>> & ((Q ~ #:12):1 * Q:8);\n",
    "DEF ExtWall2Db = MKPOL:<<< 0.5,0>,< 4,0>,< 5,0>,< 6,0>,< 6,3>,< 5.5,3.5>,\n",
    "  < 5,3>,< 4.5,3.5>,< 4,3>,< 2,4>,< 0,3>,< 0,1.5>,< 0.5,1.5>>,\n",
    "  << 10,11,12,13>,< 1,2,9,10,13>,< 2,3,7,8,9>,< 3,4,5,6,7>>,< 1..4>> \n",
    "&  ((Q ~ #:6):1 * Q:4);\n",
    "DEF ExtWall2D = STRUCT:< ExtWall2Da, T:1:11, ExtWall2Db>;\n",
    "DEF sizxExtWall = SIZE:1:ExtWall2D;\n",
    "\n",
    "DEF ExtWall = R:< 2,3>:(PI/2):(ExtWall2D * QUOTE:< 1.5>);\n",
    "DEF CurvedExtWall = (cylMap ~ T:2:r3 ~ S:< 1,3>:< PI/(4*sizxExtWall),hw4/8>):   ExtWall;\n",
    "DEF DoubleExtWall = STRUCT:< CurvedExtWall, S:1:-1, CurvedExtWall>;\n",
    "DEF FullExtWall = (STRUCT ~ ##:4):< DoubleExtWall, R:< 1,2>:(PI/2)>;\n"
   ]
  },
  {
   "cell_type": "code",
   "execution_count": 6,
   "metadata": {},
   "outputs": [
    {
     "data": {
      "text/plain": [
       "<pyplasm.xgepy.Hpc; proxy of <Swig Object of type 'std::shared_ptr< Hpc > *' at 0x18164c8360> >"
      ]
     },
     "execution_count": 6,
     "metadata": {},
     "output_type": "execute_result"
    }
   ],
   "source": [
    "ExtWall2Da = INTERSECTION([MKPOL([[[0, 0], [7, 0], [7, 5], [0, 8], [7, 3], [9, 4], [10.5, 1.5], [10.5, 0], [11, 1.5], [11, 3]],[range(1, 5), [2, 8, 7, 6, 5], [6, 7, 9, 10]], [[1], [2], [3]]]), PROD([COMP([QUOTE, N(12)])(1), Q(8)])])\n",
    "ExtWall2Db = INTERSECTION([MKPOL([[[0.5, 0], [4, 0], [5, 0], [6, 0], [6, 3], [5.5, 3.5], [5, 3], [4.5, 3.5], [4, 3], [2, 4], [0, 3], [0, 1.5], [0.5, 1.5]], [[10, 11, 12, 13], [1, 2, 9, 10, 13], [2, 3, 7, 8, 9], [3, 4, 5, 6, 7]],range(1, 5)]),PROD([COMP([QUOTE, N(6)])(1), Q(4)])])\n",
    "ExtWall2D = STRUCT([ExtWall2Da, T(1)(11), ExtWall2Db])\n",
    "SizxExtWall = SIZE(1)(ExtWall2D)\n",
    "ExtWall = R([2, 3])(PI/2)(PROD([ExtWall2D, QUOTE([1.5])]))\n",
    "CurvedExtWall = COMP([cylMap, T(2)(r3), S([1, 3])([PI/(4*SizxExtWall), hw4/8])])(ExtWall)\n",
    "DoubleExtWall = STRUCT([CurvedExtWall, S(1)(-1), CurvedExtWall])\n",
    "FullExtWall = COMP([STRUCT, NN(4)])([DoubleExtWall, R([1, 2])(PI/2)])\n",
    "VIEW(FullExtWall)"
   ]
  },
  {
   "cell_type": "markdown",
   "metadata": {},
   "source": [
    "![\"Workshop5-3\"](Workshop5-3.png)"
   ]
  },
  {
   "cell_type": "markdown",
   "metadata": {},
   "source": [
    "### COLONNE INTERMEDIE"
   ]
  },
  {
   "cell_type": "markdown",
   "metadata": {},
   "source": [
    "DEF Column (w,h::IsRealPos) = basis TOP trunk TOP capitel\n",
    "WHERE\n",
    "  basis = CUBOID:< w,w,2*w/3>,\n",
    "  trunk = CYLINDER:< w/2*0.85, h - w>:8,\n",
    "  capitel = CUBOID:< w,w,w/3>\n",
    "END;\n",
    "DEF arcAngle = 2*PI/50.4;\n",
    "DEF wallAngle = -3.2*arcAngle/4;\n",
    "DEF RotCross = 3.2*arcAngle/4 + 2.5*arcAngle;\n",
    "\n",
    "DEF MyColumn = (MKPOL ~ UKPOL ~ T:2:((r2 - 0.75)) ~ Column):< 1.5,hCol>;\n",
    "DEF The4cols = (R:< 1,2>:(arcAngle*0.4/3.2) ~ MKPOL ~ UKPOL ~ \n",
    "  STRUCT ~ ##:4):< R:< 1,2>:(-:arcAngle), MyColumn >;\n",
    "DEF The5cols = (R:< 1,2>:(arcAngle*0.4/3.2) ~ MKPOL ~ UKPOL ~ \n",
    "  STRUCT ~ ##:5):< R:< 1,2>:(-:arcAngle), MyColumn >;\n",
    "DEF TheBotWal = (cylMap ~ MKPOL ~ UKPOL ~ T:2:(r2 - 0.75) ~ CUBOID):\n",
    "  < 3.2*arcAngle/4, 1.5, hCol >;\n",
    "DEF TheSecCols = STRUCT:< R:< 1,2>:RotCross,\n",
    "  TheBotWal, R:< 1,2>:wallAngle, \n",
    "  The4cols, R:< 1,2>:(-5*arcAngle), \n",
    "  TheBotWal, R:< 1,2>:wallAngle, \n",
    "  The5cols >;\n",
    "DEF TheMedColumns = (STRUCT ~ ##:4):< TheSecCols, R:< 1,2>:(PI/-2)>;\n",
    "DEF hCol = 12 ;"
   ]
  },
  {
   "cell_type": "code",
   "execution_count": 7,
   "metadata": {},
   "outputs": [
    {
     "data": {
      "text/plain": [
       "<pyplasm.xgepy.Hpc; proxy of <Swig Object of type 'std::shared_ptr< Hpc > *' at 0x18164c8c60> >"
      ]
     },
     "execution_count": 7,
     "metadata": {},
     "output_type": "execute_result"
    }
   ],
   "source": [
    "hCol = 12\n",
    "\n",
    "def Column(args):\n",
    "    w, h = args\n",
    "    basis = CUBOID([w, w, 2*w/3])\n",
    "    trunk = CYLINDER([w/2*.85, h-w])(8)\n",
    "    capitel = CUBOID([w, w, w/3])\n",
    "    return TOP([TOP([basis, trunk]), capitel])\n",
    "\n",
    "arcAngle = 2*PI/50.4\n",
    "wallAngle = -3.2*arcAngle/4.\n",
    "rotCross = 3.2*arcAngle/4. + 2.5*arcAngle\n",
    "\n",
    "myColumn = COMP([MKPOL, UKPOL, T(2)(r2-.75), Column])([1.5, hCol])\n",
    "the4cols = COMP([R([1, 2])(arcAngle*.4/3.2), MKPOL, UKPOL, STRUCT, NN(4)])([R([1, 2])(DIFF(arcAngle)), myColumn])\n",
    "the5cols = COMP([R([1, 2])(arcAngle*.4/3.2), MKPOL, UKPOL, STRUCT, NN(5)])([R([1,2])(DIFF(arcAngle)), myColumn])\n",
    "theBotWal = COMP([cylMap, MKPOL, UKPOL, T(2)(r2-.75), CUBOID])([3.2*arcAngle/4, 1.5, hCol])\n",
    "theSecCols = STRUCT([R([1, 2])(rotCross), theBotWal, R([1, 2])(wallAngle), the4cols, R([1,2])(-5*arcAngle), theBotWal, R([1,2])(wallAngle), the5cols])\n",
    "theMedColumns = COMP([STRUCT, NN(4)])([theSecCols, R([1, 2])(PI/-2)])\n",
    "\n",
    "VIEW(myColumn)\n",
    "VIEW(theMedColumns)"
   ]
  },
  {
   "cell_type": "markdown",
   "metadata": {},
   "source": [
    "![\"Workshop5-4\"](Workshop5-4.png)"
   ]
  },
  {
   "cell_type": "markdown",
   "metadata": {},
   "source": [
    "![\"Workshop5-5\"](Workshop5-5.png)"
   ]
  },
  {
   "cell_type": "markdown",
   "metadata": {},
   "source": [
    "### ARCHI SULLE COLONNE"
   ]
  },
  {
   "cell_type": "markdown",
   "metadata": {},
   "source": [
    "DEF bottomArc (d::IsRealPos) = Bezier:S1:<< 0,0>,< 0,2*d/3>,< d,2*d/3>,< d,0>>;\n",
    "DEF topArc (d::IsRealPos) = Bezier:S1:<< 0,2*d/3>,< d,2*d/3>>;\n",
    "DEF arc2D  (d::IsRealPos) = Bezier:S2:< bottomArc:d,topArc:d>;\n",
    "DEF arc3D  (d::IsRealPos)(w::IsRealPos) = (T:2:w ~ R:< 2,3>:(PI/2)):\n",
    "  ( MAP:(CONS:(arc2D:d)):(Intervals:1:8 * Intervals:1:1) * QUOTE:< w> );\n",
    "DEF Interarc (d1,d2::IsReal)(w::IsRealPos)= CUBOID:< d1,w,2*d2/3>;\n",
    "DEF Xarc (d1,d2::IsRealPos) (w::IsRealPos) = \n",
    "  Interarc:< d1,d2>:w RIGHT arc3D:d2:w RIGHT Interarc:< d1,d2>:w;\n",
    "\n",
    "DEF SizeArc = SIZE:1:TheArc;\n",
    "DEF TheArc = Xarc:< 0.4,3.2>:1.5;\n",
    "DEF HeigthArc = SIZE:3:CurvedArc;\n",
    "DEF CurvedArc = (cylMap ~ MKPOL ~ UKPOL ~ T:2:(r2 - 0.75) ~ S:< 1,3>:< sx,sz>):TheArc\n",
    "WHERE\n",
    "  sx = (1/SizeArc)*arcAngle,\n",
    "  sz = sx * (r2 - 2)\n",
    "END;\n",
    "DEF The5arcs = (MKPOL ~ UKPOL ~ STRUCT ~ ##:5):< CurvedArc, R:< 1,2>:(-:arcAngle) >;\n",
    "DEF The6arcs = (MKPOL ~ UKPOL ~ STRUCT ~ ##:6):< CurvedArc, R:< 1,2>:(-:arcAngle) >;\n",
    "DEF TheMidWall = (cylMap ~ MKPOL ~ UKPOL ~ T:2:(r2 - 0.75) ~ CUBOID):\n",
    "  < 3.2*arcAngle/4, 1.5, HeigthArc>;\n",
    "DEF TheSector = STRUCT:< R:< 1,2>:RotCross,\n",
    "  TheMidWall, R:< 1,2>:wallAngle, \n",
    "  The5arcs, R:< 1,2>:(-5*arcAngle), \n",
    "  TheMidWall, R:< 1,2>:wallAngle, \n",
    "  The6arcs >;\n",
    "DEF TheArcs = (STRUCT ~ ##:4):< TheSector, R:< 1,2>:(PI/-2)>;\n",
    "DEF TheArcsCols = STRUCT:< TheMedColumns, T:3:hCol, TheArcs >;"
   ]
  },
  {
   "cell_type": "code",
   "execution_count": 8,
   "metadata": {},
   "outputs": [
    {
     "data": {
      "text/plain": [
       "<pyplasm.xgepy.Hpc; proxy of <Swig Object of type 'std::shared_ptr< Hpc > *' at 0x18190d4090> >"
      ]
     },
     "execution_count": 8,
     "metadata": {},
     "output_type": "execute_result"
    }
   ],
   "source": [
    "def bottomArc(d):\n",
    "    return BEZIER(S1)([[0,0],[0,2*d/3],[d,2*d/3],[d,0]])\n",
    "\n",
    "def topArc(d):\n",
    "    return BEZIER(S1)([[0,2*d/3],[d,2*d/3]])\n",
    "\n",
    "def arc2D(d):\n",
    "    return BEZIER(S2)([bottomArc(d),topArc(d)])\n",
    "\n",
    "def arc3D(d):\n",
    "    def arc3D1(w):\n",
    "        arch = arc2D(d)\n",
    "        dominio = PROD([INTERVALS(1)(8), INTERVALS(1)(1)])\n",
    "        ar = MAP(arch)(dominio)\n",
    "        domin = PROD([ar, QUOTE([1.5])])\n",
    "        return COMP([T(2)(w), R([2, 3])(PI / 2)])(domin)\n",
    "    return arc3D1\n",
    "\n",
    "def Interarc(d1, d2):\n",
    "    def Interarc1(w):\n",
    "        return CUBOID([d1, w, 2 * d2 / 3])\n",
    "    return Interarc1\n",
    "\n",
    "def Xarc(d1, d2):\n",
    "    def Xarc1(w):\n",
    "        return RIGHT([RIGHT([Interarc(d1, d2)(w), arc3D(d2)(w)]), Interarc(d1, d2)(w)])\n",
    "    return Xarc1\n",
    "\n",
    "theArc = Xarc(0.4, 3.2)(1.5)\n",
    "\n",
    "sizeArc = SIZE(1)(theArc)\n",
    "sx = (1 / sizeArc) * arcAngle\n",
    "sz = sx * (r2 - 2)\n",
    "curvedArc = COMP([cylMap, MKPOL, UKPOL, T(2)(r2 - .75), S([1, 3])([sx, sz])])(theArc)\n",
    "heigthArc = SIZE(3)(curvedArc)\n",
    "the5arcs = COMP([MKPOL, UKPOL, STRUCT, NN(5)])([curvedArc, R([1, 2])(-arcAngle)])\n",
    "the6arcs = COMP([MKPOL, UKPOL, STRUCT, NN(6)])([curvedArc, R([1, 2])(-arcAngle)])\n",
    "theMidWall = COMP([cylMap, MKPOL, UKPOL, T(2)(r2-.75), CUBOID])([3.2 * arcAngle/4,1.5, heigthArc])\n",
    "theSector = STRUCT([R([1, 2])(rotCross),theMidWall, R([1,2])(wallAngle), the5arcs, R([1,2])(-5*arcAngle), theMidWall,R([1,2])(wallAngle), the6arcs])\n",
    "theArcs = COMP([STRUCT, NN(4)])([theSector, R([1, 2])(PI/-2.)])\n",
    "theArcsCols = STRUCT([theMedColumns, T(3)(hCol), theArcs])\n",
    "VIEW(theArcs)\n",
    "VIEW(theArcsCols)"
   ]
  },
  {
   "cell_type": "markdown",
   "metadata": {},
   "source": [
    "![\"Workshop5-6\"](Workshop5-6.png)"
   ]
  },
  {
   "cell_type": "markdown",
   "metadata": {},
   "source": [
    "![\"Workshop5-7\"](Workshop5-7.png)"
   ]
  },
  {
   "cell_type": "markdown",
   "metadata": {},
   "source": [
    "### MURO INTERMEDIO SUPERIORE"
   ]
  },
  {
   "cell_type": "markdown",
   "metadata": {},
   "source": [
    "DEF MedWall2D = MKPOL:<<< 0,4>,< 8,4>,< 17,4>,< 17,5>,< 12.5,7.5>,< 8,5>,< 0,8>>,\n",
    "<< 1,2,6,7>,< 2,3,4,5,6>>,\n",
    "<< 1>,< 2>>> & (QUOTE:(#:17:1) * QUOTE:< 8>);\n",
    "DEF sizxMedWall = SIZE:1:MedWall2D;\n",
    "\n",
    "DEF MedWall = R:< 2,3>:(PI/2):(MedWall2D * QUOTE:< 1.5>);\n",
    "DEF CurvedMedWall = (cylMap ~ MKPOL ~ UKPOL ~ \n",
    "    T:2:(r2+0.75) ~ S:<1,3>:<PI/(4*sizxMedWall),hw4/8>):MedWall;\n",
    "\n",
    "DEF DoubleMedWall = STRUCT:< CurvedMedWall, S:1:-1:CurvedMedWall>;\n",
    "DEF FullMedWall = (STRUCT ~ ##:4):< DoubleMedWall, R:< 1,2>:(PI/2)>;\n",
    "DEF MedWallArcs = STRUCT:< FullMedWall, TheArcsCols >;\n"
   ]
  },
  {
   "cell_type": "code",
   "execution_count": 9,
   "metadata": {},
   "outputs": [
    {
     "data": {
      "text/plain": [
       "<pyplasm.xgepy.Hpc; proxy of <Swig Object of type 'std::shared_ptr< Hpc > *' at 0x18190d5870> >"
      ]
     },
     "execution_count": 9,
     "metadata": {},
     "output_type": "execute_result"
    }
   ],
   "source": [
    "medWall2D=INTERSECTION([MKPOL([[[0,4],[8,4],[17,4],[17,5],[12.5,7.5],[8,5],[0,8]],[[1,2,6,7],[2,3,4,5,6]],[[1],[2]]]),PROD([COMP([QUOTE,N(17)])(1),QUOTE([8])])])\n",
    "sizxMedWall=SIZE(1)(medWall2D)\n",
    "medWall=R([2,3])(PI/2)(PROD([medWall2D,QUOTE([1.5])]))\n",
    "curvedMedWall=COMP([cylMap,MKPOL,UKPOL,T(2)(r2+0.75),S([1,3])([PI/(4*sizxMedWall),hw4/8])])(medWall)\n",
    "doubleMedWall=STRUCT([curvedMedWall, S(1)(-1)(curvedMedWall)])\n",
    "fullMedWall=COMP([STRUCT,NN(4)])([doubleMedWall, R([1,2])(PI/2)])\n",
    "medWallArcs=STRUCT([fullMedWall, theArcsCols])\n",
    "VIEW(fullMedWall)\n",
    "VIEW(medWallArcs)\n",
    "VIEW(STRUCT([FullExtWall, medWallArcs]))"
   ]
  },
  {
   "cell_type": "markdown",
   "metadata": {},
   "source": [
    "![\"Workshop5-8\"](Workshop5-8.png)"
   ]
  },
  {
   "cell_type": "markdown",
   "metadata": {},
   "source": [
    "![\"Workshop5-9\"](Workshop5-9.png)"
   ]
  },
  {
   "cell_type": "markdown",
   "metadata": {},
   "source": [
    "![\"Workshop5-10\"](Workshop5-10.png)"
   ]
  },
  {
   "cell_type": "markdown",
   "metadata": {},
   "source": [
    "### MURI LATERALI DELLA CROCE"
   ]
  },
  {
   "cell_type": "markdown",
   "metadata": {},
   "source": [
    "DEF CrossWall = (T:1:-1 ~ R:< 1,2>:(0.2*arcAngle) ~ \n",
    "  S:3:(hw4/8) ~ CUBOID):< 1.5,r3 - r2,5>;\n",
    "DEF SingleWall =  (R:< 1,2>:(2.5*arcAngle) ~ T:2:r2):CrossWall;\n",
    "DEF DoubleWall =  STRUCT:< SingleWall, S:1:-1, SingleWall >;\n",
    "DEF CrossWalls = (STRUCT ~ ##:4):< DoubleWall, R:< 1,2>:(PI/2)>;\n"
   ]
  },
  {
   "cell_type": "code",
   "execution_count": 10,
   "metadata": {},
   "outputs": [
    {
     "data": {
      "text/plain": [
       "<pyplasm.xgepy.Hpc; proxy of <Swig Object of type 'std::shared_ptr< Hpc > *' at 0x18190d5b70> >"
      ]
     },
     "execution_count": 10,
     "metadata": {},
     "output_type": "execute_result"
    }
   ],
   "source": [
    "crossWall=COMP([T(1)(-1),R([1,2])(0.2*arcAngle),S(3)(hw4/8),CUBOID])([1.5,r3-r2,5])\n",
    "singleWall=COMP([R([1,2])(2.5*arcAngle),T(2)(r2)])(crossWall)\n",
    "doubleWall=STRUCT([singleWall,S(1)(-1),singleWall])\n",
    "crossWalls=COMP([STRUCT,NN(4)])([doubleWall,R([1,2])(PI/2)])\n",
    "VIEW(crossWalls)"
   ]
  },
  {
   "cell_type": "markdown",
   "metadata": {},
   "source": [
    "![\"Workshop5-11\"](Workshop5-11.png)"
   ]
  },
  {
   "cell_type": "markdown",
   "metadata": {},
   "source": [
    "### TETTO SULLA CROCE"
   ]
  },
  {
   "cell_type": "markdown",
   "metadata": {},
   "source": [
    "DEF HalfTetto = MKPOL:<<< 0,r2,8>,< 8,r2,5>,< 8,r3,5>,< 0,r3,8>>,< 1..4>,<< 1>>>;\n",
    "DEF CurvedHalfTetto = (cylMap ~ S:< 1,3>:< 2.5*arcAngle/8,hw4/8>):HalfTetto;\n",
    "DEF DoubleHalfTetto = STRUCT:< CurvedHalfTetto, S:1:-1:CurvedHalfTetto>;\n",
    "DEF FullTetto = (STRUCT ~ ##:4):< DoubleHalfTetto, R:< 1,2>:(PI/-2)>;"
   ]
  },
  {
   "cell_type": "code",
   "execution_count": 11,
   "metadata": {},
   "outputs": [
    {
     "data": {
      "text/plain": [
       "<pyplasm.xgepy.Hpc; proxy of <Swig Object of type 'std::shared_ptr< Hpc > *' at 0x18190d5c30> >"
      ]
     },
     "execution_count": 11,
     "metadata": {},
     "output_type": "execute_result"
    }
   ],
   "source": [
    "halfTetto=MKPOL([[[0,r2,8],[8,r2,5],[8,r3,5],[0,r3,8]],[[1,2,3,4]],[]])\n",
    "curvedHalfTetto=COMP([cylMap,S([1,3])([2.5*arcAngle/8,hw4/8])])(halfTetto)\n",
    "doubleHalfTetto=STRUCT([curvedHalfTetto,S(1)(-1)(curvedHalfTetto)])\n",
    "fullTetto=COMP([STRUCT,NN(4)])([doubleHalfTetto,R([1,2])(PI/-2)])\n",
    "VIEW(fullTetto)"
   ]
  },
  {
   "cell_type": "markdown",
   "metadata": {},
   "source": [
    "![\"Workshop5-12\"](Workshop5-12.png)"
   ]
  },
  {
   "cell_type": "markdown",
   "metadata": {},
   "source": [
    "### MURO CON TRIPLICE APERTURA"
   ]
  },
  {
   "cell_type": "markdown",
   "metadata": {},
   "source": [
    "DEF CourtWall (d1,d2::IsRealPos) (n1,n2::IsIntPos) = \n",
    "  LeftWall OP TripleHole OP RightWall\n",
    "WHERE\n",
    "  op = ALIGN:<< 1,MAX,MIN>,< 2,MIN,MIN>>,\n",
    "  LeftWall = ((QUOTE ~ #:n1):(d1/n1)) * CUBOID:< 1,h>,\n",
    "  RightWall = ((QUOTE ~ #:n2):(d2/n2)) * CUBOID:< 1,h>,\n",
    "  h = SIZE:3:TripleHole,\n",
    "  TripleHole = STRUCT:< column:< w,2>, T:1:(2+w), column:< w,2>> \n",
    "    TOP Xarc:< 2,2>:1,\n",
    "  w = 0.7\n",
    "END;"
   ]
  },
  {
   "cell_type": "code",
   "execution_count": 12,
   "metadata": {
    "collapsed": true
   },
   "outputs": [],
   "source": [
    "def courtWall(d1,d2):\n",
    "    def courtWall1(n1,n2):\n",
    "        w=0.7\n",
    "        tripleHole=TOP([STRUCT([Column([w,2]),T(1)(2+w), Column([w,2])]), Xarc(2,2)(1)])\n",
    "        h=SIZE(3)(tripleHole)\n",
    "        op=ALIGN([[1,MAX,MIN],[2,MIN,MIN]])\n",
    "        LeftWall=PROD([COMP([QUOTE,N(n1)])(d1/n1),CUBOID([1,h])])\n",
    "        RightWall=PROD([COMP([QUOTE,N(n2)])(d2/n2),CUBOID([1,h])])\n",
    "        return op([op([LeftWall,tripleHole]),RightWall])\n",
    "    return courtWall1\n"
   ]
  },
  {
   "cell_type": "markdown",
   "metadata": {},
   "source": [
    "### MURO INFERIORE CORTILE INTERNO"
   ]
  },
  {
   "cell_type": "markdown",
   "metadata": {},
   "source": [
    "DEF MyCourtWall = CourtWall:< 12,12>:< 9,9>;\n",
    "DEF sizxCourtWall = SIZE:1:MyCourtWall;\n",
    "DEF CurvedCourtWall = (optimize ~ \n",
    "    R:<1,2>:(-2.5*arcAngle) ~ mapping ~ T:2:((r3+r2)/2)): MyCourtWall;\n",
    "DEF mapping = (cylMap ~ S:< 1,3>:<(7.25*PI/24)*(1/sizxCourtWall),hw4/8>);\n",
    "DEF CrossCourtWall = (STRUCT ~ ##:4):< CurvedCourtWall, R:< 1,2>:(PI/2)>;\n",
    "%\n",
    "STRUCT:< FullTetto, CrossWalls, CrossCourtWall >;\n",
    "STRUCT:< basement, T:3:hbasament, FullExtWall, FullTetto, CrossCourtWall,\n",
    "        CrossWalls, MedWallArcs, TheMedColumns>;"
   ]
  },
  {
   "cell_type": "code",
   "execution_count": 13,
   "metadata": {},
   "outputs": [
    {
     "data": {
      "text/plain": [
       "<pyplasm.xgepy.Hpc; proxy of <Swig Object of type 'std::shared_ptr< Hpc > *' at 0x18190d5ed0> >"
      ]
     },
     "execution_count": 13,
     "metadata": {},
     "output_type": "execute_result"
    }
   ],
   "source": [
    "myCourtWall= courtWall(12,12)(9,9)\n",
    "sizxCourtWall= SIZE(1)(myCourtWall)\n",
    "mapping=COMP([cylMap,S([1,3])([(7.5*PI/24)*(1/sizxCourtWall),hw4/8])])\n",
    "curvedCourtWall=COMP([OPTIMIZE,R([1,2])(-2.5*arcAngle),mapping,T(2)((r3+r2)/2)])(myCourtWall)\n",
    "crossCourtWall=COMP([STRUCT,NN(4)])([curvedCourtWall,R([1,2])(PI/2)])\n",
    "VIEW(crossCourtWall)"
   ]
  },
  {
   "cell_type": "markdown",
   "metadata": {},
   "source": [
    "![\"Workshop5-13\"](Workshop5-13.png)"
   ]
  },
  {
   "cell_type": "markdown",
   "metadata": {},
   "source": [
    "### CORONAMENTO MURO CORTILE INTERNO"
   ]
  },
  {
   "cell_type": "markdown",
   "metadata": {},
   "source": [
    "DEF TopCourtWall2D = MKPOL:<<< 0,3.333>,< 10,3.333>,< 10,4.333>,< 5,6.333>,< 0,4.333>>,\n",
    "    <1..5>,<<1>>> & (QUOTE:(#:10:1) * QUOTE:<8>);\n",
    "DEF TopCourtWall = R:< 2,3>:(PI/2):(TopCourtWall2D * QUOTE < 1>);\n",
    "DEF MyTopCourtWall = TopCourtWall RIGHT TopCourtWall RIGHT TopCourtWall; \n",
    "DEF CurvedTopCourtWall = (\n",
    "    R:<1,2>:(-2.5*arcAngle) ~ mapping ~ T:2:((r3+r2+2)/2)): MyTopCourtWall;\n",
    "DEF FullTopCourtWall = (STRUCT ~ ##:4):< CurvedTopCourtWall, R:< 1,2>:(PI/2)>;"
   ]
  },
  {
   "cell_type": "code",
   "execution_count": 14,
   "metadata": {},
   "outputs": [
    {
     "data": {
      "text/plain": [
       "<pyplasm.xgepy.Hpc; proxy of <Swig Object of type 'std::shared_ptr< Hpc > *' at 0x18190d5810> >"
      ]
     },
     "execution_count": 14,
     "metadata": {},
     "output_type": "execute_result"
    }
   ],
   "source": [
    "topCourtWall2D = INTERSECTION([MKPOL([[[0,3.333],[10,3.333],[10,4.333],[5,6.333],[0,4.333]],\n",
    "                                      [range(1,6)],[[1]]]),PROD([COMP([QUOTE,N(10)])(1),QUOTE([8])])])\n",
    "topCourtWall = R([2,3])(PI/2)(PROD([topCourtWall2D,QUOTE([1])]))\n",
    "myTopCourtWall=RIGHT([RIGHT([topCourtWall,topCourtWall]),topCourtWall])\n",
    "curvedTopCourtWall=COMP([R([1,2])(-2.5*arcAngle),mapping,T(2)((r3+r2+2)/2)])(myTopCourtWall)\n",
    "fullTopCourtWall=COMP([STRUCT,NN(4)])([curvedTopCourtWall,R([1,2])(PI/2)])\n",
    "VIEW(fullTopCourtWall)\n"
   ]
  },
  {
   "cell_type": "markdown",
   "metadata": {},
   "source": [
    "![\"Workshop5-14\"](Workshop5-14.png)"
   ]
  },
  {
   "cell_type": "markdown",
   "metadata": {},
   "source": [
    "### TETTO SU CORTILE INTERNO"
   ]
  },
  {
   "cell_type": "markdown",
   "metadata": {},
   "source": [
    "DEF RotWall = 2.5*arcAngle;\n",
    "DEF CourTetto = MKPOL:<<< 0,(r3+r2+2)/2,3.333>,< 10,(r3+r2+2)/2,3.333>,\n",
    "    <10,r2,4.333>,<0,r2,4.333>,\n",
    "    < 0,(r3+r2+2)/2,3.433>,< 10,(r3+r2+2)/2,3.433>,\n",
    "    < 10,r2,4.433>,< 0,r2,4.433> >, < 1..8>,<< 1>>> \n",
    "& \n",
    "   (QUOTE:(#:10:1) * QUOTE:<(r3+r2+2)/2> * QUOTE:< 5>);\n",
    "\n",
    "DEF MyCourTetto = CourTetto RIGHT CourTetto RIGHT CourTetto; \n",
    "DEF CurvedCourTetto = (R:< 1,2>:(-:RotWall) ~ mapping): MyCourTetto;\n",
    "DEF FullCourTetto = (STRUCT ~ ##:4):< CurvedCourTetto, R:< 1,2>:(PI/2)>;\n"
   ]
  },
  {
   "cell_type": "code",
   "execution_count": 15,
   "metadata": {},
   "outputs": [
    {
     "data": {
      "text/plain": [
       "<pyplasm.xgepy.Hpc; proxy of <Swig Object of type 'std::shared_ptr< Hpc > *' at 0x18190d4d50> >"
      ]
     },
     "execution_count": 15,
     "metadata": {},
     "output_type": "execute_result"
    }
   ],
   "source": [
    "rotWall = 2.5 * arcAngle\n",
    "courTetto = INTERSECTION([\n",
    "    MKPOL([[[0, (r3 + r2 + 2) / 2, 3.333], [10, (r3 + r2 + 2) / 2, 3.333], [10, r2, 4.333],\n",
    "                        [0, r2, 4.333], [0, (r3 + r2 + 2) / 2, 3.433], [10, (r3 + r2 + 2) / 2, 3.433],\n",
    "                        [10, r2, 4.433], [0, r2, 4.433]], [range(1, 9)], [[1]]]),\n",
    "                    PROD([COMP([QUOTE, N(10)])(1), PROD([QUOTE([(r3 + r2 + 2) / 2]), QUOTE([5])])])])\n",
    "\n",
    "myCourTetto = RIGHT([RIGHT([courTetto, courTetto]), courTetto])\n",
    "curvedCourTetto = COMP([R([1, 2])(DIFF(rotWall)), mapping])(myCourTetto)\n",
    "fullCourTetto = COMP([STRUCT, NN(4)])([curvedCourTetto, R([1, 2])(PI / 2)])\n",
    "VIEW(fullCourTetto)"
   ]
  },
  {
   "cell_type": "markdown",
   "metadata": {},
   "source": [
    "![\"Workshop5-15\"](Workshop5-15.png)"
   ]
  },
  {
   "cell_type": "markdown",
   "metadata": {},
   "source": [
    "### COLONNE MURO INTERNO"
   ]
  },
  {
   "cell_type": "markdown",
   "metadata": {},
   "source": [
    "DEF Radial22Obj (Obj::IsPol) = \n",
    "  STRUCT:< The20Obj, R:< 1,2>:((20*PI)/11), The2Obj >\n",
    "WHERE\n",
    "  The4Obj = (STRUCT ~ ##:4):< Obj, R:< 1,2>:(PI/11) >,\n",
    "  The2Obj  = (STRUCT ~ ##:2):< Obj, R:< 1,2>:(PI/11) >,\n",
    "  The20Obj = (STRUCT ~ ##:5):< The4Obj, R:< 1,2>:((4*PI)/11) >\n",
    "END;\n",
    "\n",
    "DEF InternalCol = (MKPOL ~ UKPOL ~ T:2:((r0 - 2)) ~ Column):< 1.5,hCol>;\n",
    "DEF The22Columns = Radial22Obj:InternalCol;"
   ]
  },
  {
   "cell_type": "code",
   "execution_count": 16,
   "metadata": {},
   "outputs": [
    {
     "data": {
      "text/plain": [
       "<pyplasm.xgepy.Hpc; proxy of <Swig Object of type 'std::shared_ptr< Hpc > *' at 0x18190d4300> >"
      ]
     },
     "execution_count": 16,
     "metadata": {},
     "output_type": "execute_result"
    }
   ],
   "source": [
    "def radial22Obj(Obj):\n",
    "    the4Obj = COMP([STRUCT,NN(4)])([Obj,R([1,2])(PI/11)])\n",
    "    the2Obj = COMP([STRUCT,NN(2)])([Obj,R([1,2])(PI/11)])\n",
    "    the20Obj = COMP([STRUCT,NN(5)])([the4Obj,R([1,2])((4*PI)/11)])\n",
    "    return STRUCT([the20Obj,R([1,2])(20*PI/11),the2Obj])\n",
    "\n",
    "internalCol = COMP([MKPOL,UKPOL,T(2)((r0-2)),Column])([1.5,hCol])\n",
    "the22Columns = radial22Obj(internalCol)\n",
    "VIEW(the22Columns)"
   ]
  },
  {
   "cell_type": "markdown",
   "metadata": {},
   "source": [
    "![\"Workshop5-16\"](Workshop5-16.png)"
   ]
  },
  {
   "cell_type": "markdown",
   "metadata": {},
   "source": [
    "### TRAVI MURO INTERNO"
   ]
  },
  {
   "cell_type": "markdown",
   "metadata": {},
   "source": [
    "DEF Beam = Q:<-0.5,1.5,2,1.5> * Q:< 2.2> * Q:1.5;\n",
    "DEF CurvedBeam = (cylMap ~ T:< 2,3>:<(r0 - 2),hcol> ~ S:1:(PI/(11*5)) ):Beam;\n",
    "DEF The22Beams = Radial22Obj:CurvedBeam;"
   ]
  },
  {
   "cell_type": "code",
   "execution_count": 17,
   "metadata": {},
   "outputs": [
    {
     "data": {
      "text/plain": [
       "<pyplasm.xgepy.Hpc; proxy of <Swig Object of type 'std::shared_ptr< Hpc > *' at 0x18190d44b0> >"
      ]
     },
     "execution_count": 17,
     "metadata": {},
     "output_type": "execute_result"
    }
   ],
   "source": [
    "beam = PROD([QUOTE([-0.5,1.5,2,1.5]),PROD([QUOTE([2.2]),QUOTE([1.5])])])\n",
    "curvedBeam = COMP([cylMap,T([2,3])([(r0 - 2),hCol]),S(1)(PI/(11*5))])(beam)\n",
    "the22Beams = radial22Obj(curvedBeam)\n",
    "VIEW(the22Beams)"
   ]
  },
  {
   "cell_type": "markdown",
   "metadata": {},
   "source": [
    "![\"Workshop5-17\"](Workshop5-17.png)"
   ]
  },
  {
   "cell_type": "markdown",
   "metadata": {},
   "source": [
    "### MURO INTERNO SUPERIORE"
   ]
  },
  {
   "cell_type": "markdown",
   "metadata": {},
   "source": [
    "DEF Hwall = STRUCT:<\n",
    "%  QUOTE:<-0.5,1.5,-2,1.5> * QUOTE:<-0.3,1.4> * QUOTE:< 2.5*hCol>,\n",
    "  QUOTE:< -2.0,2> * QUOTE:<-0.3,1.4> * QUOTE:< 1.5*hCol, -0.5*hcol, 0.5*hcol>\n",
    "%  QUOTE:<-0.5,1.75,-1.5,1.75> * QUOTE:<-0.3,1.4> * QUOTE:< 2.5*hCol>,\n",
    "  QUOTE:<-2.25,1.5> * QUOTE:<-0.3,1.4> * QUOTE:< 1.5*hCol, -0.5*hcol, 0.5*hcol>>;\n",
    "DEF CurvedHwall = (cylMap ~ T:< 2,3>:<(r0 - 2),hcol> ~ S:1:(PI/(11*5)) ):Hwall;\n",
    "DEF The22Hwall = Radial22Obj:CurvedHwall;"
   ]
  },
  {
   "cell_type": "code",
   "execution_count": 18,
   "metadata": {},
   "outputs": [
    {
     "data": {
      "text/plain": [
       "<pyplasm.xgepy.Hpc; proxy of <Swig Object of type 'std::shared_ptr< Hpc > *' at 0x18164a19f0> >"
      ]
     },
     "execution_count": 18,
     "metadata": {},
     "output_type": "execute_result"
    }
   ],
   "source": [
    "hwall=STRUCT([\n",
    "    INSR(PROD)([QUOTE([-0.5,1.5,-2,1.5]),QUOTE([-0.3,1.4]),QUOTE([2.5*hCol])]),\n",
    "    INSR(PROD)([QUOTE([-2.0,2]),QUOTE([-0.3,1.4]),QUOTE([1.5*hCol, -0.5*hCol, 0.5*hCol])]),\n",
    "    INSR(PROD)([QUOTE([-0.5,1.75,-1.5,1.75]),QUOTE([-0.3,1.4]),QUOTE([2.5*hCol])])])\n",
    "\n",
    "curvedHwall=COMP([cylMap,T([2,3])([r0-2,hCol]),S(1)(PI/(11*5))])(hwall)\n",
    "the22Hwall=radial22Obj(curvedHwall)\n",
    "VIEW(the22Hwall)"
   ]
  },
  {
   "cell_type": "markdown",
   "metadata": {},
   "source": [
    "![\"Workshop5-18\"](Workshop5-18.png)"
   ]
  },
  {
   "cell_type": "markdown",
   "metadata": {},
   "source": [
    "### CORONAMENTO SUPERIORE MURO INTERNO"
   ]
  },
  {
   "cell_type": "markdown",
   "metadata": {},
   "source": [
    "DEF myArc = MAP:[SIN ~ S1, COS ~ S1]:(QUOTE:(#:5:(PI/10)));\n",
    "DEF Vertex = MKPOL:<<< 0,0>>,<< 1>>,<< 1>>>;\n",
    "DEF Sector = JOIN:< myArc, Vertex>;\n",
    "DEF Triangle = S:1:-1:(SIMPLEX:2);\n",
    "DEF SectorTriangle2D = STRUCT: < T:1:0.05, Sector, T:1:2, Triangle>;\n",
    "DEF DoubleSect = STRUCT:< SectorTriangle2D, S:1:-1:SectorTriangle2D>;\n",
    "DEF Sect2D = S:1:(2/2.05):DoubleSect;\n",
    "DEF Sect3D = R:< 2,3>:(PI/2):(Sect2D * QUOTE:< 0.8>);\n",
    "DEF CurvedSect = (cylMap ~ T:2:(r0 %- 2%) ~ S:< 1,3>:<(2*PI)/(11*4),3> ):Sect3D;\n",
    "DEF Frieze = T:3:(3.5*hcol):CurvedSect;\n",
    "DEF Radial11Obj (Obj::IsPol) = \n",
    "  STRUCT:< The10Obj, R:< 1,2>:((20*PI)/11), Obj >\n",
    "WHERE\n",
    "  The2Obj = (STRUCT ~ ##:2):< Obj, R:< 1,2>:((2*PI)/11) >,\n",
    "  The10Obj = (STRUCT ~ ##:5):< The2Obj, R:< 1,2>:((4*PI)/11) >\n",
    "END;\n",
    "DEF The11Frieze = Radial11Obj:Frieze;"
   ]
  },
  {
   "cell_type": "code",
   "execution_count": 19,
   "metadata": {},
   "outputs": [
    {
     "data": {
      "text/plain": [
       "<pyplasm.xgepy.Hpc; proxy of <Swig Object of type 'std::shared_ptr< Hpc > *' at 0x18190cd4e0> >"
      ]
     },
     "execution_count": 19,
     "metadata": {},
     "output_type": "execute_result"
    }
   ],
   "source": [
    "myArc=MAP([COMP([SIN,S1]),COMP([COS,S1])])(COMP([QUOTE,N(5)])(PI/10))\n",
    "vertex = MKPOL([[[0,0]],[[1]],[[1]]])\n",
    "sector=JOIN([myArc, vertex])\n",
    "triangle=S(1)(-1)(SIMPLEX(2))\n",
    "sectorTriangle2D=STRUCT([T(1)(0.05),sector,T(1)(2),triangle])\n",
    "doubleSect=STRUCT([sectorTriangle2D,S(1)(-1)(sectorTriangle2D)])\n",
    "sect2D=S(1)(2/2.05)(doubleSect)\n",
    "sect3D=R([2,3])(PI/2)(PROD([sect2D,QUOTE([0.8])]))\n",
    "curvedSect=COMP([cylMap,T(2)(r0),S([1,3])([(2*PI)/(11*4),3])])(sect3D)\n",
    "frieze=T(3)(3.5*hCol)(curvedSect)\n",
    "\n",
    "def Radial11Obj(Obj):\n",
    "    \"\"\"\n",
    "    :param Obj: object to be placed\n",
    "    \"\"\"\n",
    "    the2Obj=COMP([STRUCT,NN(2)])([Obj,R([1,2])((2*PI)/11)])\n",
    "    the10Obj=COMP([STRUCT,NN(5)])([the2Obj,R([1,2])((4*PI)/11)])\n",
    "    return STRUCT([the10Obj,R([1,2])((20*PI)/11),Obj])\n",
    "\n",
    "the11Frieze = Radial11Obj(frieze)\n",
    "VIEW(the11Frieze)"
   ]
  },
  {
   "cell_type": "markdown",
   "metadata": {},
   "source": [
    "![\"Workshop5-19\"](Workshop5-19.png)"
   ]
  },
  {
   "cell_type": "markdown",
   "metadata": {},
   "source": [
    "### TRALICCIO TETTO INTERNO"
   ]
  },
  {
   "cell_type": "markdown",
   "metadata": {},
   "source": [
    "DEF Trellis (H,L::IsRealPos) = (R:< 2,3>:(PI/2) ~ EMBED:1 ~ MKPOL):\n",
    "  <<< 0,0>,< L/3,0>,< 2*L/3,0>,< L,0>,< 2*L/3,H/3>,< L/3,2*H/3>,< 0,H>>,\n",
    "   << 1,2>,< 2,3>,< 3,4>,< 4,5>,< 5,6>,< 6,7>,< 7,1>,< 1,6>,< 6,2>,< 2,5>,< 5,3>>,\n",
    "   < 1..11> > ;\n",
    "DEF Radial (n::IsIntPos)(obj::IsPol) = (STRUCT ~ ##:3):\n",
    "   <(STRUCT ~ ##:(n/3)):< obj, R:< 1,2>:(2*PI/n) >, R:< 1,2>:(2*PI/3)>;\n",
    "\n",
    "DEF TrellisTop3D = (T:2:-0.25 ~ S:2:0.5 ~ OffSet:< 1,1,1> ~ Trellis):< hcol,r0 - 1>;\n",
    "DEF TheTopTrellis = T:3:(3.5*hcol):TrellisTop3D;\n",
    "DEF TopTrellis = Radial:12:TheTopTrellis;"
   ]
  },
  {
   "cell_type": "code",
   "execution_count": 20,
   "metadata": {},
   "outputs": [
    {
     "data": {
      "text/plain": [
       "<pyplasm.xgepy.Hpc; proxy of <Swig Object of type 'std::shared_ptr< Hpc > *' at 0x181e447270> >"
      ]
     },
     "execution_count": 20,
     "metadata": {},
     "output_type": "execute_result"
    }
   ],
   "source": [
    "def trellis(args):\n",
    "    H,L=args\n",
    "    return COMP([R([2,3])(PI/2),EMBED(1),MKPOL])([[\n",
    "        [0,0],[L/3,0],[2*L/3,0],[L,0],[2*L/3,H/3],[L/3,2*H/3],[0,H]],\n",
    "        [[1,2],[2,3],[3,4],[4,5],[5,6],[6,7],[7,1],[1,6],[6,2],[2,5],[5,3]],[1,2,3,4,5,6,7,8,9,10,11]])\n",
    "\n",
    "def radial(n):\n",
    "    def radial1(obj):\n",
    "        return COMP([STRUCT,NN(n/3)])([COMP([STRUCT,NN(n/3)])([obj,R([1,2])(2*PI/n)]),R([1,2])(2*PI/3)])\n",
    "    return radial1\n",
    "    \n",
    "trellisTop3D = COMP([T(2)(-0.25),S(2)(0.5),OFFSET([1,1,1]),trellis])([hCol,r0-1])\n",
    "theTopTrellis = T(3)(3.5*hCol)(trellisTop3D)\n",
    "topTrellis = radial(12)(theTopTrellis)\n",
    "VIEW(topTrellis)"
   ]
  },
  {
   "cell_type": "markdown",
   "metadata": {},
   "source": [
    "![\"Workshop5-20\"](Workshop5-20.png)"
   ]
  },
  {
   "cell_type": "markdown",
   "metadata": {},
   "source": [
    "### TRALICCIO TETTO INTERMEDIO"
   ]
  },
  {
   "cell_type": "markdown",
   "metadata": {},
   "source": [
    "DEF TrellisMed3D = (T:2:-0.25 ~ S:2:0.5 ~ OffSet:< 1,1,1> ~ Trellis):< hcol,r2 - r0>;\n",
    "DEF TheMedTrellis = T:3:(hcol+3):TrellisMed3D;\n",
    "DEF MedTrellis = Radial:24:(T:1:r0:TheMedTrellis);\n",
    "DEF DoubleMedTrellis = STRUCT:< MedTrellis, R:< 1,2>:(PI/24), MedTrellis>;\n"
   ]
  },
  {
   "cell_type": "code",
   "execution_count": 21,
   "metadata": {},
   "outputs": [
    {
     "data": {
      "text/plain": [
       "<pyplasm.xgepy.Hpc; proxy of <Swig Object of type 'std::shared_ptr< Hpc > *' at 0x181e447090> >"
      ]
     },
     "execution_count": 21,
     "metadata": {},
     "output_type": "execute_result"
    }
   ],
   "source": [
    "trellisMed3D = COMP([T(2)(-0.25),S(2)(0.5),OFFSET([1,1,1]),trellis])([hCol,r2 - r0])\n",
    "theMedTrellis = T(3)(hCol+3)(trellisMed3D)\n",
    "medTrellis = radial(24)(T(1)(r0)(theMedTrellis))\n",
    "doubleMedTrellis = STRUCT([medTrellis, R([1,2])(PI/24), medTrellis])\n",
    "VIEW(doubleMedTrellis)"
   ]
  },
  {
   "cell_type": "markdown",
   "metadata": {},
   "source": [
    "![\"Workshop5-21\"](Workshop5-21.png)"
   ]
  },
  {
   "cell_type": "markdown",
   "metadata": {},
   "source": [
    "### S.STEFANO ROTONDO"
   ]
  },
  {
   "cell_type": "markdown",
   "metadata": {},
   "source": [
    "DEF out = (CenteredCameras ~ STRUCT):\n",
    "  < basement, T:3:hbasament, FullExtWall, FullTetto, CrossCourtWall,\n",
    "        CrossWalls, MedWallArcs, TheMedColumns, FullTopCourtWall, \n",
    "        FullCourTetto, The22Columns, The22Beams, The22Hwall, \n",
    "        The11Frieze, TopTrellis , DoubleMedTrellis >;"
   ]
  },
  {
   "cell_type": "code",
   "execution_count": 22,
   "metadata": {},
   "outputs": [
    {
     "data": {
      "text/plain": [
       "<pyplasm.xgepy.Hpc; proxy of <Swig Object of type 'std::shared_ptr< Hpc > *' at 0x181e447420> >"
      ]
     },
     "execution_count": 22,
     "metadata": {},
     "output_type": "execute_result"
    }
   ],
   "source": [
    "out=STRUCT([basement,T(3)(hbasament),\n",
    "            FullExtWall, fullTetto, crossCourtWall, fullTopCourtWall,\n",
    "            crossWalls, medWallArcs, theMedColumns,\n",
    "            fullCourTetto, the22Columns, the22Beams,\n",
    "            the22Hwall, the11Frieze, topTrellis, doubleMedTrellis\n",
    "           ])\n",
    "VIEW(out)"
   ]
  },
  {
   "cell_type": "markdown",
   "metadata": {
    "collapsed": true
   },
   "source": [
    "![\"Workshop5-22\"](Workshop5-22.png)"
   ]
  },
  {
   "cell_type": "code",
   "execution_count": null,
   "metadata": {
    "collapsed": true
   },
   "outputs": [],
   "source": []
  }
 ],
 "metadata": {
  "kernelspec": {
   "display_name": "Python 2",
   "language": "python",
   "name": "python2"
  },
  "language_info": {
   "codemirror_mode": {
    "name": "ipython",
    "version": 2
   },
   "file_extension": ".py",
   "mimetype": "text/x-python",
   "name": "python",
   "nbconvert_exporter": "python",
   "pygments_lexer": "ipython2",
   "version": "2.7.13"
  }
 },
 "nbformat": 4,
 "nbformat_minor": 2
}
